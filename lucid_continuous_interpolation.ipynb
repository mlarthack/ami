{
 "cells": [
  {
   "cell_type": "code",
   "execution_count": null,
   "metadata": {
    "colab": {},
    "colab_type": "code",
    "id": "Fx3QlXznOwE1"
   },
   "outputs": [],
   "source": [
    "# Licensed under the Apache License, Version 2.0 (the \"License\");\n",
    "# you may not use this file except in compliance with the License.\n",
    "# You may obtain a copy of the License at\n",
    "#\n",
    "# https://www.apache.org/licenses/LICENSE-2.0\n",
    "#\n",
    "# Unless required by applicable law or agreed to in writing, software\n",
    "# distributed under the License is distributed on an \"AS IS\" BASIS,\n",
    "# WITHOUT WARRANTIES OR CONDITIONS OF ANY KIND, either express or implied.\n",
    "# See the License for the specific language governing permissions and\n",
    "# limitations under the License."
   ]
  },
  {
   "cell_type": "markdown",
   "metadata": {},
   "source": [
    "### This notebook is based on \"aligned interpolation\" example from \"diferrentiable image parametrizations\" article on distill.pub\n",
    "\n",
    "### The purpose is to research possibilities of aligned interpolation of feature vizualization by feeding the result of previous optimization to the next"
   ]
  },
  {
   "cell_type": "markdown",
   "metadata": {
    "colab_type": "text",
    "id": "FsFc1mE51tCd"
   },
   "source": [
    "## Install, Import, Load Model"
   ]
  },
  {
   "cell_type": "code",
   "execution_count": null,
   "metadata": {
    "colab": {},
    "colab_type": "code",
    "id": "tavMPe3KQ8Cs"
   },
   "outputs": [],
   "source": [
    "!pip install -q lucid>=0.2.3"
   ]
  },
  {
   "cell_type": "code",
   "execution_count": null,
   "metadata": {
    "colab": {},
    "colab_type": "code",
    "id": "RBr8QbboRAdU"
   },
   "outputs": [],
   "source": [
    "# Imports\n",
    "\n",
    "import numpy as np\n",
    "import tensorflow as tf\n",
    "\n",
    "import lucid.modelzoo.vision_models as models\n",
    "from lucid.misc.io import load, save, show\n",
    "\n",
    "import lucid.optvis.objectives as objectives\n",
    "import lucid.optvis.param as param\n",
    "import lucid.optvis.render as render"
   ]
  },
  {
   "cell_type": "code",
   "execution_count": null,
   "metadata": {
    "colab": {},
    "colab_type": "code",
    "id": "SJ6tSKjBduii"
   },
   "outputs": [],
   "source": [
    "from lucid.optvis.param import image, image_sample\n",
    "from lucid.misc.tfutil import create_session"
   ]
  },
  {
   "cell_type": "code",
   "execution_count": null,
   "metadata": {
    "colab": {
     "base_uri": "https://localhost:8080/",
     "height": 166
    },
    "colab_type": "code",
    "id": "yNALaA0QRJVT",
    "outputId": "c948da7b-d324-4468-df5d-d71a5ffcd155"
   },
   "outputs": [],
   "source": [
    "# Let's import a model from the Lucid modelzoo!\n",
    "\n",
    "model = models.InceptionV1()\n",
    "model.load_graphdef()"
   ]
  },
  {
   "cell_type": "markdown",
   "metadata": {
    "colab_type": "text",
    "id": "VcT6e1BxY90X"
   },
   "source": [
    "## Creating initial image\n"
   ]
  },
  {
   "cell_type": "code",
   "execution_count": null,
   "metadata": {
    "colab": {},
    "colab_type": "code",
    "id": "sNMO1bsdjmhu"
   },
   "outputs": [],
   "source": [
    "h, w = 256, 256"
   ]
  },
  {
   "cell_type": "code",
   "execution_count": null,
   "metadata": {
    "colab": {
     "base_uri": "https://localhost:8080/",
     "height": 1000
    },
    "colab_type": "code",
    "id": "7zH1uJlHWFhy",
    "outputId": "4fbb9f1d-2fbf-4ccd-88b7-63222ab0e36d"
   },
   "outputs": [],
   "source": [
    " with tf.Graph().as_default() as graph, tf.Session() as sess:\n",
    "  N1 = render.make_vis_T(model, 'mixed4d:1', lambda: param.image(h, w, sd=0.42))\n",
    "  tf.initialize_all_variables().run()\n",
    "  \n",
    "  for i in range(512):\n",
    "    N1(\"vis_op\").run()\n",
    "    if not i % 100:\n",
    "      show(N1(\"input\").eval())\n",
    "  init_im = N1(\"input\").eval()"
   ]
  },
  {
   "cell_type": "code",
   "execution_count": null,
   "metadata": {
    "colab": {},
    "colab_type": "code",
    "id": "Wldr34HNi7ay"
   },
   "outputs": [],
   "source": [
    "def render_from_image(objective, image, n_iter=100):\n",
    "    \"\"\"returns list of frames\"\"\"\n",
    "    frames = []\n",
    "  \n",
    "    with tf.Graph().as_default() as graph, tf.Session() as sess:\n",
    "      var = tf.Variable(image)\n",
    "\n",
    "      T = render.make_vis_T(model, objective, lambda: var.value(), optimizer=tf.train.AdamOptimizer(learning_rate=0.01))\n",
    "      tf.initialize_all_variables().run()\n",
    "\n",
    "      for i in range(n_iter):\n",
    "        T(\"vis_op\").run()\n",
    "        frames.append(T(\"input\").eval())\n",
    "      \n",
    "      return frames"
   ]
  },
  {
   "cell_type": "markdown",
   "metadata": {
    "colab_type": "text",
    "id": "8FPTruGUj1UC"
   },
   "source": [
    "## Creating interpolated images\n"
   ]
  },
  {
   "cell_type": "code",
   "execution_count": null,
   "metadata": {
    "colab": {
     "base_uri": "https://localhost:8080/",
     "height": 74
    },
    "colab_type": "code",
    "id": "KGsGTBsOxwbz",
    "outputId": "2b199dda-bf2c-48f3-84df-bd1a15e925cc"
   },
   "outputs": [],
   "source": [
    "vl = [init_im]\n",
    "keyframes = [init_im]\n",
    "obj = ('mixed4d', 2)\n",
    "for i in range(10):\n",
    "  new_obj = 'mixed4d', i + 3\n",
    "  n = 16\n",
    "  for j in range(n):\n",
    "    inter_obj = j / n * objectives.channel(*new_obj) + n / (j+1) * objectives.channel(*obj)\n",
    "    vl += render_from_image(inter_obj, vl[-1], n_iter=int(512 / n))\n",
    "    keyframes.append(vl[-1])\n",
    "    obj = new_obj\n",
    "  show(vl[-1])\n"
   ]
  },
  {
   "cell_type": "markdown",
   "metadata": {
    "colab_type": "text",
    "id": "h6hJY0Fw4INI"
   },
   "source": [
    "## Making Video"
   ]
  },
  {
   "cell_type": "code",
   "execution_count": null,
   "metadata": {
    "colab": {},
    "colab_type": "code",
    "id": "TgqHjE9F4KFP"
   },
   "outputs": [],
   "source": [
    "from moviepy.video.io.ffmpeg_writer import FFMPEG_VideoWriter\n",
    "\n",
    "from IPython.display import clear_output, Image, display"
   ]
  },
  {
   "cell_type": "code",
   "execution_count": null,
   "metadata": {
    "colab": {},
    "colab_type": "code",
    "id": "BPUrXg_6hCzw"
   },
   "outputs": [],
   "source": [
    "out_name = \"video\"\n",
    "writer = FFMPEG_VideoWriter(out_name+'.mp4', (w, h), 60.0)\n",
    "with writer:\n",
    "  for vis in keyframes:\n",
    "    writer.write_frame(np.uint8(vis*255.0))"
   ]
  }
 ],
 "metadata": {
  "accelerator": "GPU",
  "colab": {
   "collapsed_sections": [
    "ISGK0WTSOuhH"
   ],
   "name": "lucid interpolation.ipynb",
   "provenance": [],
   "toc_visible": true,
   "version": "0.3.2"
  },
  "kernelspec": {
   "display_name": "Python 3",
   "language": "python",
   "name": "python3"
  },
  "language_info": {
   "codemirror_mode": {
    "name": "ipython",
    "version": 3
   },
   "file_extension": ".py",
   "mimetype": "text/x-python",
   "name": "python",
   "nbconvert_exporter": "python",
   "pygments_lexer": "ipython3",
   "version": "3.6.7"
  }
 },
 "nbformat": 4,
 "nbformat_minor": 1
}
